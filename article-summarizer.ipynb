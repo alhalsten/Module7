{
 "cells": [
  {
   "cell_type": "markdown",
   "metadata": {},
   "source": [
    "# Web Mining and Applied NLP (44-620)\n",
    "\n",
    "## Final Project: Article Summarizer\n",
    "\n",
    "### Student Name: Angela Halsten\n",
    "Git: https://github.com/alhalsten/Module7\n",
    "\n",
    "Perform the tasks described in the Markdown cells below.  When you have completed the assignment make sure your code cells have all been run (and have output beneath them) and ensure you have committed and pushed ALL of your changes to your assignment repository.\n",
    "\n",
    "You should bring in code from previous assignments to help you answer the questions below.\n",
    "\n",
    "Every question that requires you to write code will have a code cell underneath it; you may either write your entire solution in that cell or write it in a python file (`.py`), then import and run the appropriate code to answer the question."
   ]
  },
  {
   "cell_type": "markdown",
   "metadata": {},
   "source": [
    "                    Question 1"
   ]
  },
  {
   "cell_type": "markdown",
   "metadata": {},
   "source": [
    "1. Find on the internet an article or blog post about a topic that interests you and you are able to get the text for using the technologies we have applied in the course.  Get the html for the article and store it in a file (which you must submit with your project)"
   ]
  },
  {
   "cell_type": "code",
   "execution_count": 57,
   "metadata": {},
   "outputs": [],
   "source": [
    "import requests\n",
    "from bs4 import BeautifulSoup\n",
    "\n",
    "parser = 'html.parser'\n",
    "article_page = requests.get('https://www.edutopia.org/article/are-we-teaching-math-kids-need/')\n",
    "article_html = article_page.text\n",
    "\n",
    "# pickle works similar to json, but stores information in a binary format\n",
    "# json files are readable by humans, pickle files, not so much\n",
    "\n",
    "# BeautifulSoup objects don't pickle well, so it's appropriate and polite to web developers to cache the text of the web page, or just dump it to an html file you can read in later as a regular file\n",
    "import pickle\n",
    "with open('python-match.pkl', 'wb') as f:\n",
    "    pickle.dump(article_page.text, f)"
   ]
  },
  {
   "cell_type": "markdown",
   "metadata": {},
   "source": [
    "                Question 2"
   ]
  },
  {
   "cell_type": "markdown",
   "metadata": {},
   "source": [
    "2. Read in your article's html source from the file you created in question 1 and do sentiment analysis on the article/post's text (use `.get_text()`).  Print the polarity score with an appropriate label.  Additionally print the number of sentences in the original article (with an appropriate label)"
   ]
  },
  {
   "cell_type": "code",
   "execution_count": 58,
   "metadata": {},
   "outputs": [
    {
     "name": "stdout",
     "output_type": "stream",
     "text": [
      "STEMAre We Teaching the Math Kids Need?Every child possesses vast mathematics potential, says Jo Boaler, Stanford University mathematics professor and best-selling author—but for them to access it, we need to rethink how we teach math.\n",
      "By Sarah GonserJanuary 29, 2021Jo Boaler has spent a lot of time thinking and writing about anxiety—math anxiety, in particular—and its impact on kids’ learning trajectories.Mathematics, she writes in her 2019 book, Limitless Mind: Learn, Lead, and Live Without Barriers, is the subject “with the most damaging ideas held by teachers, students, and parents.” It’s one of the few academic subjects in which multitudes of students, early on, decide they’re not cut out for it: We’re either a “math person” or we’re not. That notion tends to stick well into adulthood. “It is difficult to know how many people walk around in society harboring damaging ideas about their math ability, but I estimate it to be at least half of the population,” she writes.Boaler, a professor of mathematics education at Stanford University, a best-selling author, and the cofounder of the math education site youcubed.org, has spent decades thinking about how to undo the damage. Her work, closely aligned with Stanford psychology professor Carol Dweck’s research on growth mindset, explores what Boaler calls “our most harmful and persistent ideas about innate ability.” She’s a vocal proponent of changing the way we assess mathematics and modernizing the math curriculum—especially in high school—so that it’s more engaging, more inclusive, and more likely to prepare kids for the modern workforce.Critics argue that by insisting on math as a joyful, creative exploration, we’re doing kids a disservice, and that by reducing or eliminating memorization and math drills, for example, we’re setting kids up for a lack of mathematical fluency. But Boaler says that she’s got no quarrel with things like math facts and that teachers should help kids develop these—not by “emphasizing facts for the sake of facts, or using timed tests, but by encouraging students to use, work with, and explore numbers,” a process that ultimately builds critical number sense and reinforces math facts in a more organic way.I sat down with Boaler recently for a Zoom discussion about mathematical freedom, anxiety-producing teaching practices, and the systemic changes she says are critical for modernizing math curricula.Sarah Gonser: In your book Limitless Mind, you say that learning is about identity. Can you explain?Jo Boaler: Well, we know that when people learn, it’s not just about an accumulation of knowledge; it’s really about changing who they are as people.And we’ve found over the years that the traditional approach to teaching maths—I’m just going to show you methods; you’re going to accept them and use them—is incompatible with the identities kids want, particularly around adolescence. Kids want to have their own ideas; they want to be respected as thinkers; they don’t want to just be given information that they simply reproduce.They see it as a subject area where they can’t be their full selves, and it’s a large part of why people drop out of maths.Gonser: It’s also a subject that causes a lot of very real anxiety. Why is that?Boaler: I would say it comes from a few different things: It’s a subject that is heavily tested; it’s a subject that’s often taught as right and wrong answers; and there are these widespread myths that you’re either born as a math person or you’re not. Somehow, you have the right brain, or you don’t.There’s lots of micromessaging in classrooms that might get kids to think they can’t be successful. Speed is very much at the heart of it. If you ask the class a question and then take the answer from the first kid who raises their hand, you’re sending the message that you value speed. And we know that professional mathematicians are not fast; they’re some of the slowest thinkers.Finally, we have stereotyped ideas about who can be good at maths. So if you’re a woman or a person of color, you’re dealing with that pressure. If you have fixed ideas about who can do maths, a fixed mindset, then that stereotype can really take root.Gonser: So how can we slow it all down and avoid making math class a place of stress and anxiety?Boaler: I think a big part of it is A for L—Assessment for Learning—I just think that’s so critical. It changes the whole culture of classrooms for kids.If we assess kids by giving them diagnostic feedback, not grades, and ask them to do their own reflection so that they’re able to see themselves progress on this journey—everything changes when assessment is like that in classrooms.But we also want to change the way content is taught. Kids don’t need lots of short questions with one method and one answer. It can be open questions that students think about creatively and visually.Gonser: You’re also an advocate of encouraging struggle and mistakes in classrooms. In Limitless Mind, you describe high achievers who work “at the edge of their understanding, making mistake after mistake in difficult circumstances, correcting mistakes, moving on and making more mistakes.” In the classroom, why is that important?Boaler: The best times for learning are when you’re struggling and finding things difficult; that’s when your brain is on fire with activity. I think it’s really important to share the value of struggle with students. When I teach, I say to students, “I want you to struggle, because that’s really good for you.” I think it’s freeing for students when they know that’s a goal. And I think you should keep sharing that, reinforce it during every lesson.It’s really going to involve changing how we assess kids. If kids take a test and they’re penalized for making mistakes, that’s a counter message—and studies have shown that this mixed message is worse than no message at all. Don’t tell them that struggle is good if you’re going to mark them wrong when they struggle.I think it’s important that we always let kids resubmit work. And if you’re using grading—I’m not a fan of grading myself—but if students don’t do well the first time, to allow them to work on it again sends a great message that learning and struggle are valued.Gonser: Let’s talk about broader, more systemic curricular changes. You’re a prominent voice in the conversation about re-sequencing math curricula so that it’s more than a gateway to higher-level mathematics. What’s changed in our world to make this so urgent?Boaler: Well, we need to modernize not just how we teach it, but the actual content we’re teaching in classrooms. The content we teach in maths was created around the 1800s and really hasn’t changed since then. It was created at a time when we needed kids to be calculators. And so learning arithmetic, calculating things quickly—that was important.But the world has changed dramatically. In high school, in particular, we’re teaching a wide array of methods for kids to do by hand that they’ll never use in their lives again. You will never go into a workplace and have people, by hand, go through synthetic division. So we’re spending too many hours giving kids this outdated content that they’re so turned off by. For what reason?Gonser: What should we be teaching instead?Boaler: So I’m very excited about bringing data science into mathematics. I am one of the five writers of a new framework in California where we are highlighting data science as a really important part of maths.Now, it’s hard to do that because the Common Core Standards really didn’t include data science, and they need to be updated. But what we’ve done is try and bring a data science perspective to the current standards. This data science initiative is very exciting, not only because it gives teachers of all grades interesting content to work with, but it also helps kids become data literate, which is something they really need in this world.There are more data points in the world than there are stars in the galaxies right now; the world is filled with data. So even little kids need to prepare to become data literate.Gonser: You’re also leading the charge on changing the high school math sequence, streamlining the algebra-geometry-algebra sandwich so there’s room for a data science class—can you tell me more about that?Boaler: In the high school years, something very exciting is happening. For generations, really, there’s been this race to get to calculus because it can get you into college.It’s built on a very inequitable system. Because there are so many courses before calculus in middle school and high school, it’s effectively meant we’re pushing kids out of the calculus track in sixth grade, which is awful. The content is also not very up-to-date and not very engaging.There’s recently been a dramatic change in California: The UC and Cal State systems will now accept data science as a third-year course instead of Algebra 2. This is amazing and important because Algebra 2 is a course that is the end of the road for most kids, and now they can take data science instead.Gonser: Why is Algebra 2 the end of the road for so many kids?Boaler: Because it’s so procedural and uninteresting that the vast majority of kids, after they’ve done Algebra 2, don’t take any more maths. Data science is completely different. As we’re rolling it out, we’re communicating: This can be a course in high school that any student can take. You don’t have to be advanced in middle school, and yet it can lead to a high-level STEM career. I see that completely changing who ends up going into STEM.Gonser: What do you say to critics who argue this is a change that will water down the curriculum, make it less rigorous?Boaler: It’s totally rigorous, actually. Mathematics is a very broad subject. There’s no reason that we should say, “Let’s just value this part, which is calculus.” The mathematics of data science involves matrices and probability and statistics and linear algebra—which is beyond what’s often taught in calculus.Gonser: My last question comes from an Edutopia reader, a teacher, who asks: “What’s your greatest piece of advice for early math educators?”Boaler: My biggest piece of advice is to really spend time trying to change kids’ mindsets and ideas about themselves, because that will pay huge dividends. If you encourage struggle, if you remind kids that they can learn anything, we now know there are no limits to what people can learn.Kids should know that if the kid next to them is solving something more quickly, it doesn’t matter. We know that kids enter school with a growth mindset, and that drops with each passing year. And part of that is kids looking at other kids and thinking, “Oh, they can do it better than me.” We have to counter those ideas and couple that with math that’s open and creative. When you do that, things change.Share This StoryFiled UnderSTEMEducation EquityStudent EngagementTeaching StrategiesMath\n",
      "Polarity is  0.15073250007073533\n"
     ]
    }
   ],
   "source": [
    "with open('python-match.pkl', 'rb') as f:\n",
    "    article_html = pickle.load(f)\n",
    "soup = BeautifulSoup(article_html, parser)\n",
    "article_element = soup.find('article')\n",
    "print(article_element.get_text())\n",
    "\n",
    "import spacy\n",
    "from spacytextblob.spacytextblob import SpacyTextBlob\n",
    "nlp = spacy.load('en_core_web_sm')\n",
    "nlp.add_pipe('spacytextblob')\n",
    "\n",
    "doc = nlp(article_element.get_text())\n",
    "doc._.blob.polarity                            \n",
    "doc._.blob.subjectivity                        \n",
    "doc._.blob.sentiment_assessments.assessments   \n",
    "doc._.blob.ngrams() \n",
    "print(\"Polarity is \", doc._.blob.polarity)"
   ]
  },
  {
   "cell_type": "markdown",
   "metadata": {},
   "source": [
    "                    Question 3"
   ]
  },
  {
   "cell_type": "markdown",
   "metadata": {},
   "source": [
    "3. Load the article text into a trained `spaCy` pipeline, and determine the 5 most frequent tokens (converted to lower case).  Print the common tokens with an appropriate label.  Additionally, print the tokens their frequencies (with appropriate labels)"
   ]
  },
  {
   "cell_type": "code",
   "execution_count": 59,
   "metadata": {},
   "outputs": [
    {
     "name": "stdout",
     "output_type": "stream",
     "text": [
      "(word, occurrences) [('kids', 25), ('math', 17), ('data', 13), ('science', 10), ('school', 9)]\n"
     ]
    }
   ],
   "source": [
    "import spacy\n",
    "from spacytextblob.spacytextblob import SpacyTextBlob\n",
    "from collections import Counter\n",
    "\n",
    "nlp = spacy.load('en_core_web_sm')\n",
    "# why not, let's add some fun sentiment analysis, because we can\n",
    "nlp.add_pipe('spacytextblob')\n",
    "doc = nlp(article_element.get_text())\n",
    "non_ws_tokens = []\n",
    "for token in doc:\n",
    "    if not token.is_space:\n",
    "        non_ws_tokens.append(token)\n",
    "\n",
    "def we_care_about(token):\n",
    "    return not (token.is_space or token.is_punct)\n",
    "\n",
    "interesting_tokens = [token for token in doc if we_care_about(token)]\n",
    "\n",
    "def we_care_about(token):\n",
    "    return not (token.is_space or token.is_punct or token.is_stop)\n",
    "\n",
    "interesting_tokens = [token for token in doc if we_care_about(token)]\n",
    "word_freq = Counter(map(str,interesting_tokens))\n",
    "print(\"(word, occurrences)\",word_freq.most_common(5))"
   ]
  },
  {
   "cell_type": "markdown",
   "metadata": {},
   "source": [
    "                    Question 4"
   ]
  },
  {
   "cell_type": "markdown",
   "metadata": {},
   "source": [
    "4. Load the article text into a trained `spaCy` pipeline, and determine the 5 most frequent lemmas (converted to lower case).  Print the common lemmas with an appropriate label.  Additionally, print the lemmas with their frequencies (with appropriate labels)."
   ]
  },
  {
   "cell_type": "code",
   "execution_count": 60,
   "metadata": {},
   "outputs": [
    {
     "name": "stdout",
     "output_type": "stream",
     "text": [
      "(word, occurrences) [('kid', 30), ('math', 25), ('change', 17), ('teach', 11), ('science', 10)]\n"
     ]
    }
   ],
   "source": [
    "interesting_lemmas = [token.lemma_ for token in doc if we_care_about(token)]\n",
    "lemma_freq = Counter(interesting_lemmas)\n",
    "\n",
    "interesting_lemmas = [token.lemma_.lower() for token in doc if we_care_about(token)]\n",
    "lemma_freq = Counter(interesting_lemmas)\n",
    "print(\"(word, occurrences)\",lemma_freq.most_common(5))"
   ]
  },
  {
   "cell_type": "markdown",
   "metadata": {},
   "source": [
    "                Question 5"
   ]
  },
  {
   "cell_type": "markdown",
   "metadata": {},
   "source": [
    "5. Make a list containing the scores (using tokens) of every sentence in the article, and plot a histogram with appropriate titles and axis labels of the scores. From your histogram, what seems to be the most common range of scores (put the answer in a comment after your code)?"
   ]
  },
  {
   "cell_type": "code",
   "execution_count": 61,
   "metadata": {},
   "outputs": [
    {
     "data": {
      "text/plain": [
       "Text(0, 0.5, 'Sentences')"
      ]
     },
     "execution_count": 61,
     "metadata": {},
     "output_type": "execute_result"
    },
    {
     "data": {
      "image/png": "[encoded data removed]",
      "text/plain": [
       "<Figure size 432x288 with 1 Axes>"
      ]
     },
     "metadata": {
      "needs_background": "light"
     },
     "output_type": "display_data"
    }
   ],
   "source": [
    "cool_words = set()\n",
    "tokenpercentlist = []\n",
    "for token, freq in word_freq.most_common(5):\n",
    "    cool_words.add(token)\n",
    "def score_sentence_by_token(sentence, interesting_token):\n",
    "    \n",
    "    sentences = list(doc.sents) # Thanks spaCy for just giving us our sentences\n",
    "for sentence in sentences:\n",
    "    count1 = 0\n",
    "    count2=0\n",
    "    for token in sentence:\n",
    "        if token.lemma_.lower() in cool_words:\n",
    "            count1 += 1\n",
    "    # because there's a bunch of junk newlines, we'll replace those with nothing, as well as a little bit of whitespace\n",
    "        if not(token.is_space or token.is_punct):\n",
    "            count2 += 1\n",
    "            tokenpercent = count1/count2  \n",
    "    sent_str = str(sentence).replace('\\n','').replace('  ',' ')\n",
    "    tokenpercentlist.append(tokenpercent)\n",
    "\n",
    "import matplotlib as mpl\n",
    "import matplotlib.pyplot as plt\n",
    "import numpy as np\n",
    "\n",
    "plt.hist(tokenpercentlist)\n",
    "plt.title('Tokens as Percent of Sentences')\n",
    "plt.xlabel('Percent')\n",
    "plt.ylabel('Sentences')"
   ]
  },
  {
   "cell_type": "markdown",
   "metadata": {},
   "source": [
    "The most common range is 0.0-0.025."
   ]
  },
  {
   "cell_type": "markdown",
   "metadata": {},
   "source": [
    "                Question 6"
   ]
  },
  {
   "cell_type": "markdown",
   "metadata": {},
   "source": [
    "6. Make a list containing the scores (using lemmas) of every sentence in the article, and plot a histogram with appropriate titles and axis labels of the scores.  From your histogram, what seems to be the most common range of scores (put the answer in a comment after your code)?"
   ]
  },
  {
   "cell_type": "code",
   "execution_count": 62,
   "metadata": {},
   "outputs": [
    {
     "data": {
      "text/plain": [
       "Text(0, 0.5, 'Sentences')"
      ]
     },
     "execution_count": 62,
     "metadata": {},
     "output_type": "execute_result"
    },
    {
     "data": {
      "image/png": "[encoded data removed]",
      "text/plain": [
       "<Figure size 432x288 with 1 Axes>"
      ]
     },
     "metadata": {
      "needs_background": "light"
     },
     "output_type": "display_data"
    }
   ],
   "source": [
    "cool_words = set()\n",
    "lemmapercentlist = []\n",
    "for lemma, freq in word_freq.most_common(5):\n",
    "    cool_words.add(lemma)\n",
    "def score_sentence_by_lemma(sentence, interesting_lemma):\n",
    "    \n",
    "    sentences = list(doc.sents) # Thanks spaCy for just giving us our sentences\n",
    "for sentence in sentences:\n",
    "    count1 = 0\n",
    "    count2=0\n",
    "    for lemma in sentence:\n",
    "        if lemma.lemma_.lower() in cool_words:\n",
    "            count1 += 1\n",
    "    # because there's a bunch of junk newlines, we'll replace those with nothing, as well as a little bit of whitespace\n",
    "        if not(lemma.is_space or lemma.is_punct):\n",
    "            count2 += 1\n",
    "            lemmapercent = count1/count2  \n",
    "    sent_str = str(sentence).replace('\\n','').replace('  ',' ')\n",
    "    lemmapercentlist.append(lemmapercent)\n",
    "  \n",
    "import matplotlib as mpl\n",
    "import matplotlib.pyplot as plt\n",
    "import numpy as np\n",
    "\n",
    "plt.hist(lemmapercentlist)\n",
    "plt.title('Lemmas as Percent of Sentences')\n",
    "plt.xlabel('Percent')\n",
    "plt.ylabel('Sentences')"
   ]
  },
  {
   "cell_type": "markdown",
   "metadata": {},
   "source": [
    "The most common percent range is 0.0-0.025."
   ]
  },
  {
   "cell_type": "markdown",
   "metadata": {},
   "source": [
    "                    Question 7"
   ]
  },
  {
   "cell_type": "markdown",
   "metadata": {},
   "source": [
    "7. Using the histograms from questions 5 and 6, decide a \"cutoff\" score for tokens and lemmas such that fewer than half the sentences would have a score greater than the cutoff score.  Record the scores in this Markdown cell\n",
    "\n",
    "* Cutoff Score (tokens): 0.06\n",
    "* Cutoff Score (lemmas): 0.06\n",
    "\n",
    "Feel free to change these scores as you generate your summaries.  Ideally, we're shooting for at least 6 sentences for our summary, but don't want more than 10 (these numbers are rough estimates; they depend on the length of your article)."
   ]
  },
  {
   "cell_type": "markdown",
   "metadata": {},
   "source": [
    "                    Question 8"
   ]
  },
  {
   "cell_type": "markdown",
   "metadata": {},
   "source": [
    "8. Create a summary of the article by going through every sentence in the article and adding it to an (initially) empty list if its score (based on tokens) is greater than the cutoff score you identified in question 8.  If your loop variable is named `sent`, you may find it easier to add `sent.text.strip()` to your list of sentences.  Print the summary (I would cleanly generate the summary text by `join`ing the strings in your list together with a space (`' '.join(sentence_list)`)."
   ]
  },
  {
   "cell_type": "code",
   "execution_count": 118,
   "metadata": {},
   "outputs": [
    {
     "name": "stdout",
     "output_type": "stream",
     "text": [
      "STEMAre We Teaching the Math Kids Need?Every child possesses vast mathematics potential, says Jo Boaler, Stanford University mathematics professor and best-selling author—but for them to access it, we need to rethink how we teach math.\n",
      "She’s a vocal proponent of changing the way we assess mathematics and modernizing the math curriculum—especially in high school—so that it’s more engaging, more inclusive, and more likely to prepare kids for the modern workforce.\n",
      "Finally, we have stereotyped ideas about who can be good at maths.\n",
      "The content we teach in maths was created around the 1800s and really hasn’t changed since then.\n",
      "So I’m very excited about bringing data science into mathematics.\n",
      "I am one of the five writers of a new framework in California where we are highlighting data science as a really important part of maths.\n",
      "Now, it’s hard to do that because the Common Core Standards really didn’t include data science, and they need to be updated.\n",
      "But what we’ve done is try and bring a data science perspective to the current standards.\n",
      "This data science initiative is very exciting, not only because it gives teachers of all grades interesting content to work with, but it also helps kids become data literate, which is something they really need in this world.\n",
      "So even little kids need to prepare to become data literate.\n",
      "Gonser: You’re also leading the charge on changing the high school math sequence, streamlining the algebra-geometry-algebra sandwich so there’s room for a data science class—can you tell me more about that?Boaler: In the high school years, something very exciting is happening.\n",
      "Because there are so many courses before calculus in middle school and high school, it’s effectively meant we’re pushing kids out of the calculus track in sixth grade, which is awful.\n",
      "This is amazing and important because Algebra 2 is a course that is the end of the road for most kids, and now they can take data science instead.\n",
      "Data science is completely different.\n",
      "The mathematics of data science involves matrices and probability and statistics and linear algebra—which is beyond what’s often taught in calculus.\n",
      "We know that kids enter school with a growth mindset, and that drops with each passing year. \n",
      "We have to counter those ideas and couple that with math that’s open and creative.\n"
     ]
    }
   ],
   "source": [
    "cool_words = set()\n",
    "\n",
    "for token, freq in word_freq.most_common(5):\n",
    "    cool_words.add(token)\n",
    "def score_sentence_by_token(sentence, interesting_token):\n",
    "    \n",
    "    sentences = list(doc.sents) # Thanks spaCy for just giving us our sentences\n",
    "for sentence in sentences:\n",
    "    count1 = 0\n",
    "    count2=0\n",
    "    for token in sentence:\n",
    "        if token.lemma_.lower() in cool_words:\n",
    "            count1 += 1\n",
    "    # because there's a bunch of junk newlines, we'll replace those with nothing, as well as a little bit of whitespace\n",
    "        if not(token.is_space or token.is_punct):\n",
    "            count2 += 1\n",
    "            tokenpercent = count1/count2  \n",
    "    sent = str(sentence).replace('\\n','').replace('  ',' ')\n",
    "   \n",
    "    if tokenpercent > 0.05: \n",
    "        sentences_list = [sent.text.strip() for sent in doc.sents] \n",
    "        minidoc = nlp(''.join(sent))\n",
    "        \n",
    "        print(minidoc)"
   ]
  },
  {
   "cell_type": "markdown",
   "metadata": {},
   "source": [
    "                    Question 9"
   ]
  },
  {
   "cell_type": "markdown",
   "metadata": {},
   "source": [
    "9. Print the polarity score of your summary you generated with the token scores (with an appropriate label). Additionally, print the number of sentences in the summarized article."
   ]
  },
  {
   "cell_type": "code",
   "execution_count": 119,
   "metadata": {},
   "outputs": [
    {
     "name": "stdout",
     "output_type": "stream",
     "text": [
      "Polarity is  0.25\n",
      "18\n"
     ]
    }
   ],
   "source": [
    "import spacy\n",
    "from spacytextblob.spacytextblob import SpacyTextBlob\n",
    "nlp = spacy.load('en_core_web_sm')\n",
    "nlp.add_pipe('spacytextblob')\n",
    "\n",
    "doc = nlp(minidoc)\n",
    "doc._.blob.polarity                            \n",
    "doc._.blob.subjectivity                        \n",
    "doc._.blob.sentiment_assessments.assessments   \n",
    "doc._.blob.ngrams() \n",
    "\n",
    "\n",
    "print(\"Polarity is \", doc._.blob.polarity)\n",
    "print(len(minidoc))"
   ]
  },
  {
   "cell_type": "markdown",
   "metadata": {},
   "source": [
    "                    Question 10"
   ]
  },
  {
   "cell_type": "markdown",
   "metadata": {},
   "source": [
    "10. Create a summary of the article by going through every sentence in the article and adding it to an (initially) empty list if its score (based on lemmas) is greater than the cutoff score you identified in question 8.  If your loop variable is named `sent`, you may find it easier to add `sent.text.strip()` to your list of sentences.  Print the summary (I would cleanly generate the summary text by `join`ing the strings in your list together with a space (`' '.join(sentence_list)`)."
   ]
  },
  {
   "cell_type": "code",
   "execution_count": 105,
   "metadata": {},
   "outputs": [
    {
     "name": "stdout",
     "output_type": "stream",
     "text": [
      "STEMAre We Teaching the Math Kids Need?Every child possesses vast mathematics potential, says Jo Boaler, Stanford University mathematics professor and best-selling author—but for them to access it, we need to rethink how we teach math.\n",
      "She’s a vocal proponent of changing the way we assess mathematics and modernizing the math curriculum—especially in high school—so that it’s more engaging, more inclusive, and more likely to prepare kids for the modern workforce.\n",
      "Finally, we have stereotyped ideas about who can be good at maths.\n",
      "The content we teach in maths was created around the 1800s and really hasn’t changed since then.\n",
      "So I’m very excited about bringing data science into mathematics.\n",
      "I am one of the five writers of a new framework in California where we are highlighting data science as a really important part of maths.\n",
      "Now, it’s hard to do that because the Common Core Standards really didn’t include data science, and they need to be updated.\n",
      "But what we’ve done is try and bring a data science perspective to the current standards.\n",
      "This data science initiative is very exciting, not only because it gives teachers of all grades interesting content to work with, but it also helps kids become data literate, which is something they really need in this world.\n",
      "So even little kids need to prepare to become data literate.\n",
      "Gonser: You’re also leading the charge on changing the high school math sequence, streamlining the algebra-geometry-algebra sandwich so there’s room for a data science class—can you tell me more about that?Boaler: In the high school years, something very exciting is happening.\n",
      "Because there are so many courses before calculus in middle school and high school, it’s effectively meant we’re pushing kids out of the calculus track in sixth grade, which is awful.\n",
      "This is amazing and important because Algebra 2 is a course that is the end of the road for most kids, and now they can take data science instead.\n",
      "Data science is completely different.\n",
      "The mathematics of data science involves matrices and probability and statistics and linear algebra—which is beyond what’s often taught in calculus.\n",
      "We know that kids enter school with a growth mindset, and that drops with each passing year. \n",
      "We have to counter those ideas and couple that with math that’s open and creative.\n"
     ]
    }
   ],
   "source": [
    "cool_words = set()\n",
    "\n",
    "for lemma, freq in word_freq.most_common(5):\n",
    "    cool_words.add(lemma)\n",
    "def score_sentence_by_lemma(sentence, interesting_lemma):\n",
    "    \n",
    "    sentences = list(doc.sents) # Thanks spaCy for just giving us our sentences\n",
    "for sentence in sentences:\n",
    "    count1 = 0\n",
    "    count2=0\n",
    "    for lemma in sentence:\n",
    "        if lemma.lemma_.lower() in cool_words:\n",
    "            count1 += 1\n",
    "    # because there's a bunch of junk newlines, we'll replace those with nothing, as well as a little bit of whitespace\n",
    "        if not(lemma.is_space or lemma.is_punct):\n",
    "            count2 += 1\n",
    "            lemmapercent = count1/count2  \n",
    "    sent = str(sentence).replace('\\n','').replace('  ',' ')\n",
    "   \n",
    "    if lemmapercent > 0.05: \n",
    "        sentences_list = [sent.text.strip() for sent in doc.sents] \n",
    "        minidoc_lemma = nlp(''.join(sent))\n",
    "        \n",
    "        print(minidoc_lemma)"
   ]
  },
  {
   "cell_type": "markdown",
   "metadata": {},
   "source": [
    "                    Question 11"
   ]
  },
  {
   "cell_type": "markdown",
   "metadata": {},
   "source": [
    "11. Print the polarity score of your summary you generated with the lemma scores (with an appropriate label). Additionally, print the number of sentences in the summarized article."
   ]
  },
  {
   "cell_type": "code",
   "execution_count": 106,
   "metadata": {},
   "outputs": [
    {
     "name": "stdout",
     "output_type": "stream",
     "text": [
      "Polarity is  0.25\n",
      "18\n"
     ]
    }
   ],
   "source": [
    "import spacy\n",
    "from spacytextblob.spacytextblob import SpacyTextBlob\n",
    "nlp = spacy.load('en_core_web_sm')\n",
    "nlp.add_pipe('spacytextblob')\n",
    "\n",
    "doc = nlp(minidoc_lemma)\n",
    "doc._.blob.polarity                            \n",
    "doc._.blob.subjectivity                        \n",
    "doc._.blob.sentiment_assessments.assessments   \n",
    "doc._.blob.ngrams() \n",
    "\n",
    "\n",
    "print(\"Polarity is \", doc._.blob.polarity)\n",
    "print(len(minidoc_lemma))"
   ]
  },
  {
   "cell_type": "markdown",
   "metadata": {},
   "source": [
    "                    Question 12"
   ]
  },
  {
   "cell_type": "markdown",
   "metadata": {},
   "source": [
    "12.  Compare your polarity scores of your summaries to the polarity scores of the initial article.  Is there a difference?  Why do you think that may or may not be?.  Answer in this Markdown cell.  \n",
    "    The polarity scores of the summaries are both 0.25 whereas, the polarity of the original article is 0.15. So, there is a slight difference between the summaries and the original article. However, they both have a slight positive polarity. This may be because the summaries come from the same article and have the same kind of tone as the rest of the article. "
   ]
  },
  {
   "cell_type": "markdown",
   "metadata": {},
   "source": [
    "                Question 13"
   ]
  },
  {
   "cell_type": "markdown",
   "metadata": {},
   "source": [
    "13. Based on your reading of the original article, which summary do you think is better (if there's a difference).  Why do you think this might be?\n",
    "    Both of my summaries were the same. The only difference in the top five words was data and change. But these sentences also included the popular word \"kid\" so the sentences showed up in both summaries. So, there is no preference for me between the two summaries. "
   ]
  }
 ],
 "metadata": {
  "kernelspec": {
   "display_name": "Python 3 (ipykernel)",
   "language": "python",
   "name": "python3"
  },
  "language_info": {
   "codemirror_mode": {
    "name": "ipython",
    "version": 3
   },
   "file_extension": ".py",
   "mimetype": "text/x-python",
   "name": "python",
   "nbconvert_exporter": "python",
   "pygments_lexer": "ipython3",
   "version": "3.9.12"
  }
 },
 "nbformat": 4,
 "nbformat_minor": 4
}
